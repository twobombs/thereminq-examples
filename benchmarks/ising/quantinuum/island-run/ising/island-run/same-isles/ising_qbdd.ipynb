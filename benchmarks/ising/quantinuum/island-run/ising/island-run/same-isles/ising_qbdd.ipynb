{
 "cells": [
  {
   "cell_type": "markdown",
   "id": "a29261ce",
   "metadata": {},
   "source": [
    "Ising model Trotterization as interpreted by (OpenAI GPT) Elara\n",
    "You likely want to specify environment variable QRACK_QTENSORNETWORK_THRESHOLD_QB=1"
   ]
  },
  {
   "cell_type": "code",
   "execution_count": null,
   "id": "099182c3",
   "metadata": {},
   "outputs": [],
   "source": [
    "import math\n",
    "import sys\n",
    "import time"
   ]
  },
  {
   "cell_type": "code",
   "execution_count": null,
   "id": "daa6fff6",
   "metadata": {},
   "outputs": [],
   "source": [
    "from qiskit import QuantumCircuit\n",
    "from qiskit.circuit.library import RZZGate, RXGate\n",
    "from qiskit.compiler import transpile"
   ]
  },
  {
   "cell_type": "code",
   "execution_count": null,
   "id": "73478c21",
   "metadata": {},
   "outputs": [],
   "source": [
    "from pyqrack import QrackSimulator"
   ]
  },
  {
   "cell_type": "code",
   "execution_count": null,
   "id": "01866fd9",
   "metadata": {},
   "outputs": [],
   "source": [
    "def factor_width(width):\n",
    "    col_len = math.floor(math.sqrt(width))\n",
    "    while ((width // col_len) * col_len) != width:\n",
    "        col_len -= 1\n",
    "    row_len = width // col_len\n",
    "\n",
    "    return row_len, col_len"
   ]
  },
  {
   "cell_type": "code",
   "execution_count": null,
   "id": "fd9dbc22",
   "metadata": {},
   "outputs": [],
   "source": [
    "def trotter_step(circ, qubits, lattice_shape, J, h, dt):\n",
    "    n_rows, n_cols = lattice_shape\n",
    "\n",
    "    # First half of transverse field term\n",
    "    for q in qubits:\n",
    "        circ.rx(h * dt, q)\n",
    "\n",
    "    # Layered RZZ interactions (simulate 2D nearest-neighbor coupling)\n",
    "    def add_rzz_pairs(pairs):\n",
    "        for q1, q2 in pairs:\n",
    "            circ.append(RZZGate(2 * J * dt), [q1, q2])\n",
    "\n",
    "    # Layer 1: horizontal pairs (even rows)\n",
    "    horiz_pairs = [\n",
    "        (r * n_cols + c, r * n_cols + (c + 1) % n_cols)\n",
    "        for r in range(n_rows)\n",
    "        for c in range(0, n_cols, 2)\n",
    "    ]\n",
    "    add_rzz_pairs(horiz_pairs)\n",
    "\n",
    "    # Layer 2: horizontal pairs (odd rows)\n",
    "    horiz_pairs = [\n",
    "        (r * n_cols + c, r * n_cols + (c + 1) % n_cols)\n",
    "        for r in range(n_rows)\n",
    "        for c in range(1, n_cols, 2)\n",
    "    ]\n",
    "    add_rzz_pairs(horiz_pairs)\n",
    "\n",
    "    # Layer 3: vertical pairs (even columns)\n",
    "    vert_pairs = [\n",
    "        (r * n_cols + c, ((r + 1) % n_rows) * n_cols + c)\n",
    "        for r in range(1, n_rows, 2)\n",
    "        for c in range(n_cols)\n",
    "    ]\n",
    "    add_rzz_pairs(vert_pairs)\n",
    "\n",
    "    # Layer 4: vertical pairs (odd columns)\n",
    "    vert_pairs = [\n",
    "        (r * n_cols + c, ((r + 1) % n_rows) * n_cols + c)\n",
    "        for r in range(0, n_rows, 2)\n",
    "        for c in range(n_cols)\n",
    "    ]\n",
    "    add_rzz_pairs(vert_pairs)\n",
    "\n",
    "    # Second half of transverse field term\n",
    "    for q in qubits:\n",
    "        circ.rx(h * dt, q)\n",
    "\n",
    "    return circ"
   ]
  },
  {
   "cell_type": "code",
   "execution_count": null,
   "id": "bcc431c4",
   "metadata": {},
   "outputs": [],
   "source": [
    "def main():\n",
    "    depth = 1\n",
    "    n_qubits = 56\n",
    "    if len(sys.argv) > 1:\n",
    "        depth = int(sys.argv[1])\n",
    "    if len(sys.argv) > 2:\n",
    "        n_qubits = int(sys.argv[2])\n",
    "\n",
    "    n_rows, n_cols = factor_width(n_qubits)\n",
    "    J, h, dt = -1.0, 2.0, 0.25\n",
    "    theta = 2 * math.pi / 9\n",
    "\n",
    "    qc = QuantumCircuit(n_qubits)\n",
    "\n",
    "    for q in range(n_qubits):\n",
    "        qc.ry(theta, q)\n",
    "\n",
    "    for _ in range(depth):\n",
    "        trotter_step(qc, list(range(n_qubits)), (n_rows, n_cols), J, h, dt)\n",
    "\n",
    "    basis_gates = [\n",
    "        \"rz\",\n",
    "        \"h\",\n",
    "        \"x\",\n",
    "        \"y\",\n",
    "        \"z\",\n",
    "        \"sx\",\n",
    "        \"sxdg\",\n",
    "        \"s\",\n",
    "        \"sdg\",\n",
    "        \"t\",\n",
    "        \"tdg\",\n",
    "        \"cx\",\n",
    "        \"cy\",\n",
    "        \"cz\",\n",
    "        \"swap\",\n",
    "        \"iswap\",\n",
    "    ]\n",
    "    qc = transpile(qc, basis_gates=basis_gates)\n",
    "\n",
    "    sim = QrackSimulator(n_qubits, isBinaryDecisionTree=True)\n",
    "    start = time.perf_counter()\n",
    "    sim.run_qiskit_circuit(qc, shots=0)\n",
    "    result = sim.m_all()\n",
    "\n",
    "    print(\n",
    "        \"Trotter steps: \"\n",
    "        + str(depth)\n",
    "        + \", seconds: \"\n",
    "        + str(time.perf_counter() - start)\n",
    "        + \".\"\n",
    "    )\n",
    "    print(\"Result: \" + str(result))\n",
    "\n",
    "    return 0"
   ]
  },
  {
   "cell_type": "code",
   "execution_count": null,
   "id": "9e39f55e",
   "metadata": {},
   "outputs": [],
   "source": [
    "if __name__ == \"__main__\":\n",
    "    sys.exit(main())"
   ]
  }
 ],
 "metadata": {
  "jupytext": {
   "cell_metadata_filter": "-all",
   "main_language": "python",
   "notebook_metadata_filter": "-all"
  }
 },
 "nbformat": 4,
 "nbformat_minor": 5
}
